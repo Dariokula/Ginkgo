{
 "cells": [
  {
   "cell_type": "code",
   "execution_count": 2,
   "id": "7131b50e-2a74-4d9f-a872-bc13705300a6",
   "metadata": {},
   "outputs": [
    {
     "name": "stdin",
     "output_type": "stream",
     "text": [
      "Give a number: 9.3\n"
     ]
    },
    {
     "name": "stdout",
     "output_type": "stream",
     "text": [
      "0, 1, 1, 2, 3, 5, 8. "
     ]
    }
   ],
   "source": [
    "x = float(input(\"Give a number:\"))\n",
    "\n",
    "import math\n",
    "x = math.ceil(x)\n",
    "\n",
    "F0 = 0\n",
    "F1 = 1\n",
    "\n",
    "while F1 < x:\n",
    "  if F0 == 0: print(0, end = ', ')\n",
    "  if F0+F1 < x: print(F1, end = ', ')\n",
    "  else: print(F1, end = '. ')\n",
    "  F0,F1 = F1,F0+F1"
   ]
  },
  {
   "cell_type": "code",
   "execution_count": null,
   "id": "5e294e3f-9f47-49c4-8f28-a123502d64d7",
   "metadata": {},
   "outputs": [],
   "source": []
  }
 ],
 "metadata": {
  "kernelspec": {
   "display_name": "Python 3 (ipykernel)",
   "language": "python",
   "name": "python3"
  },
  "language_info": {
   "codemirror_mode": {
    "name": "ipython",
    "version": 3
   },
   "file_extension": ".py",
   "mimetype": "text/x-python",
   "name": "python",
   "nbconvert_exporter": "python",
   "pygments_lexer": "ipython3",
   "version": "3.9.7"
  }
 },
 "nbformat": 4,
 "nbformat_minor": 5
}
