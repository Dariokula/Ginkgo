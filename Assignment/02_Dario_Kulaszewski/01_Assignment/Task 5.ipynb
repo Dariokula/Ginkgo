{
 "cells": [
  {
   "cell_type": "code",
   "execution_count": 10,
   "id": "4581a734-d5a4-435e-bf50-8d86b0b3846d",
   "metadata": {},
   "outputs": [
    {
     "name": "stdin",
     "output_type": "stream",
     "text": [
      "Give the lenght of the first side of the triangle:  4\n",
      "Give the lenght of the second side of the triangle:  5\n",
      "Give the lenght of the third side of the triangle:  6\n"
     ]
    },
    {
     "name": "stdout",
     "output_type": "stream",
     "text": [
      "\n",
      "Your triangle is scalene!\n"
     ]
    }
   ],
   "source": [
    "import statistics\n",
    "\n",
    "a = 0\n",
    "b = 0\n",
    "c = 0\n",
    "\n",
    "def triangle(a,b,c):\n",
    "    a = float(input(\"Give the lenght of the first side of the triangle: \"))\n",
    "    b = float(input(\"Give the lenght of the second side of the triangle: \"))\n",
    "    c = float(input(\"Give the lenght of the third side of the triangle: \"))\n",
    "    data=[a,b,c]\n",
    "    z = max(data)\n",
    "    x = min(data)\n",
    "    y = statistics.median(data)\n",
    "    if z >= x + y or min(data) <= 0: \n",
    "        print(\"Invalid! Please use different numbers.\")\n",
    "        triangle(a,b,c) \n",
    "    \n",
    "    if z < x + y:\n",
    "        print()\n",
    "        if  a == b == c: print(\"Your triangle is equilateral!\")\n",
    "        if  a == b or a == c or b == c: print(\"Your triangle is isosceles!\") \n",
    "        if  a != b and a != c and b != c: print(\"Your triangle is scalene!\")\n",
    "    \n",
    "triangle(a,b,c)"
   ]
  },
  {
   "cell_type": "code",
   "execution_count": null,
   "id": "4052bdb1-b516-43e1-84bb-f21bbc20926b",
   "metadata": {},
   "outputs": [],
   "source": []
  }
 ],
 "metadata": {
  "kernelspec": {
   "display_name": "Python 3 (ipykernel)",
   "language": "python",
   "name": "python3"
  },
  "language_info": {
   "codemirror_mode": {
    "name": "ipython",
    "version": 3
   },
   "file_extension": ".py",
   "mimetype": "text/x-python",
   "name": "python",
   "nbconvert_exporter": "python",
   "pygments_lexer": "ipython3",
   "version": "3.9.7"
  }
 },
 "nbformat": 4,
 "nbformat_minor": 5
}
