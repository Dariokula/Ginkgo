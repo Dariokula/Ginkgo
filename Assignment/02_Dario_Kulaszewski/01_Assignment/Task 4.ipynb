{
 "cells": [
  {
   "cell_type": "code",
   "execution_count": 2,
   "id": "c9976c6b-b78d-43bd-ac25-4d98e785da5e",
   "metadata": {},
   "outputs": [
    {
     "name": "stdin",
     "output_type": "stream",
     "text": [
      "Give a number: 9.3\n"
     ]
    },
    {
     "name": "stdout",
     "output_type": "stream",
     "text": [
      "0, 1, 2, 4, 5, 7, 8.\n"
     ]
    }
   ],
   "source": [
    "x = float(input(\"Give a number:\"))\n",
    "\n",
    "import math\n",
    "x = math.ceil(x)\n",
    "print(0, end = '')\n",
    "\n",
    "for i in range(0,x):\n",
    "    if (round(i/3,0) == i/3):\n",
    "        continue\n",
    "    print(\", \"+ str(i), end ='')\n",
    "    i += 1\n",
    "    \n",
    "print(\".\")"
   ]
  },
  {
   "cell_type": "code",
   "execution_count": null,
   "id": "47536156-4e62-4821-a5eb-1c90a2d07575",
   "metadata": {},
   "outputs": [],
   "source": []
  }
 ],
 "metadata": {
  "kernelspec": {
   "display_name": "Python 3 (ipykernel)",
   "language": "python",
   "name": "python3"
  },
  "language_info": {
   "codemirror_mode": {
    "name": "ipython",
    "version": 3
   },
   "file_extension": ".py",
   "mimetype": "text/x-python",
   "name": "python",
   "nbconvert_exporter": "python",
   "pygments_lexer": "ipython3",
   "version": "3.9.7"
  }
 },
 "nbformat": 4,
 "nbformat_minor": 5
}
