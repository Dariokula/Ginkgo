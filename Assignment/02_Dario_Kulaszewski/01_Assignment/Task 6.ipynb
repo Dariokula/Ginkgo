{
 "cells": [
  {
   "cell_type": "code",
   "execution_count": 1,
   "id": "2086c1ea-2dcc-4bab-90c6-d52ed3038583",
   "metadata": {},
   "outputs": [
    {
     "name": "stdin",
     "output_type": "stream",
     "text": [
      "Provide the number you want to transfrom from decimal to octal:  26\n"
     ]
    },
    {
     "name": "stdout",
     "output_type": "stream",
     "text": [
      "32\n"
     ]
    }
   ],
   "source": [
    "x = 0\n",
    "\n",
    "def octal_transformation(x):\n",
    "    x = int(input(\"Provide the number you want to transfrom from decimal to octal: \"))\n",
    "    oct_trans = oct(x)\n",
    "    l = len(oct_trans)\n",
    "    result = oct_trans[2:l]\n",
    "    print(result)\n",
    "    \n",
    "octal_transformation(x)"
   ]
  },
  {
   "cell_type": "code",
   "execution_count": null,
   "id": "eef322b7-ddeb-408a-9fdc-307e44fb8827",
   "metadata": {},
   "outputs": [],
   "source": []
  }
 ],
 "metadata": {
  "kernelspec": {
   "display_name": "Python 3 (ipykernel)",
   "language": "python",
   "name": "python3"
  },
  "language_info": {
   "codemirror_mode": {
    "name": "ipython",
    "version": 3
   },
   "file_extension": ".py",
   "mimetype": "text/x-python",
   "name": "python",
   "nbconvert_exporter": "python",
   "pygments_lexer": "ipython3",
   "version": "3.9.7"
  }
 },
 "nbformat": 4,
 "nbformat_minor": 5
}
