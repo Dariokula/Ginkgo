{
 "cells": [
  {
   "cell_type": "code",
   "execution_count": 1,
   "id": "a6b61c25-a234-49ef-a38a-e298b7eb1a05",
   "metadata": {},
   "outputs": [
    {
     "name": "stdin",
     "output_type": "stream",
     "text": [
      "Type your name: Dario\n"
     ]
    },
    {
     "name": "stdout",
     "output_type": "stream",
     "text": [
      "Hi Dario! Nice to meet you!\n",
      "Welcome to the Programing Course!\n"
     ]
    }
   ],
   "source": [
    "x = input(\"Type your name:\")\n",
    "print(\"Hi \" + x + \"! Nice to meet you!\")\n",
    "print (\"Welcome to the Programing Course!\")"
   ]
  },
  {
   "cell_type": "code",
   "execution_count": null,
   "id": "2838a031-fcb0-4c3f-ab11-7360f2e22515",
   "metadata": {},
   "outputs": [],
   "source": []
  }
 ],
 "metadata": {
  "kernelspec": {
   "display_name": "Python 3 (ipykernel)",
   "language": "python",
   "name": "python3"
  },
  "language_info": {
   "codemirror_mode": {
    "name": "ipython",
    "version": 3
   },
   "file_extension": ".py",
   "mimetype": "text/x-python",
   "name": "python",
   "nbconvert_exporter": "python",
   "pygments_lexer": "ipython3",
   "version": "3.9.7"
  }
 },
 "nbformat": 4,
 "nbformat_minor": 5
}
