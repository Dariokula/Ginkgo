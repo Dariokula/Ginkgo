{
 "cells": [
  {
   "cell_type": "code",
   "execution_count": 1,
   "id": "4763f299-c0d8-4807-be82-7e051391dd8e",
   "metadata": {},
   "outputs": [
    {
     "name": "stdin",
     "output_type": "stream",
     "text": [
      "Type a word: Remember\n"
     ]
    },
    {
     "name": "stdout",
     "output_type": "stream",
     "text": [
      "r e b m e m e R "
     ]
    }
   ],
   "source": [
    "x = input(\"Type a word:\")\n",
    "n = len(x)\n",
    "\n",
    "for i in x[ : :-1]:\n",
    "    print(i, end =' ')"
   ]
  },
  {
   "cell_type": "code",
   "execution_count": null,
   "id": "4baf98f3-360a-4d16-9c50-f8c37ffe075a",
   "metadata": {},
   "outputs": [],
   "source": []
  }
 ],
 "metadata": {
  "kernelspec": {
   "display_name": "Python 3 (ipykernel)",
   "language": "python",
   "name": "python3"
  },
  "language_info": {
   "codemirror_mode": {
    "name": "ipython",
    "version": 3
   },
   "file_extension": ".py",
   "mimetype": "text/x-python",
   "name": "python",
   "nbconvert_exporter": "python",
   "pygments_lexer": "ipython3",
   "version": "3.9.7"
  }
 },
 "nbformat": 4,
 "nbformat_minor": 5
}
